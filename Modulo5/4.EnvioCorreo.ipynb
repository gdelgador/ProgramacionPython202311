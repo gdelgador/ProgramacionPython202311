{
 "cells": [
  {
   "cell_type": "markdown",
   "id": "ba97da6e",
   "metadata": {},
   "source": [
    "# EnvioCorreo\n",
    "-------------------------\n",
    "\n",
    "Como punto final a nuestro procesamiento veremos la forma de hacer envío masivos de correo"
   ]
  },
  {
   "cell_type": "code",
   "execution_count": 1,
   "id": "eca5fdee-4f76-4cd4-8241-7073ee8d546d",
   "metadata": {},
   "outputs": [],
   "source": [
    "import smtplib\n",
    "from email.mime.multipart import MIMEMultipart\n",
    "from email.mime.text import MIMEText\n",
    "from email.mime.application import MIMEApplication\n",
    "\n",
    "# https://support.google.com/accounts/answer/185833?visit_id=638287546952783050-2013646570&p=InvalidSecondFactor&rd=1"
   ]
  },
  {
   "cell_type": "code",
   "execution_count": 2,
   "id": "e403a3c8-ade0-4186-a94e-48ed5f8acb19",
   "metadata": {},
   "outputs": [
    {
     "name": "stdout",
     "output_type": "stream",
     "text": [
      "Correo enviado exitosamente\n"
     ]
    }
   ],
   "source": [
    "# Configuración del servidor y credenciales\n",
    "import os \n",
    "\n",
    "\n",
    "smtp_server = 'smtp.gmail.com'  # Cambia esto al servidor SMTP que estés utilizando\n",
    "smtp_port = 587  # Cambia esto al puerto adecuado\n",
    "sender_email = 'tu_correo@gmail.com'\n",
    "sender_password = 'tu_contraseña'\n",
    "\n",
    "# Detalles del correo electrónico\n",
    "receiver_email = 'otro_correo@gmail.com'\n",
    "subject = 'Envio Reporte Vinos'\n",
    "body = 'Adjunto lo solicitado'\n",
    "\n",
    "# Crear el objeto MIMEMultipart\n",
    "msg = MIMEMultipart()\n",
    "msg['From'] = sender_email\n",
    "msg['To'] = receiver_email\n",
    "msg['Subject'] = subject\n",
    "msg.attach(MIMEText(body, 'plain'))\n",
    "\n",
    "\n",
    "# Adjuntar archivo\n",
    "file_path = './output/etiqueta/precio_muy_caro.xlsx'  # Cambia la ruta al archivo que quieras adjuntar\n",
    "with open(file_path, 'rb') as file:\n",
    "    attachment = MIMEApplication(file.read(), _subtype=\"xlsx\")\n",
    "    attachment.add_header('Content-Disposition', 'attachment', filename=file_path)\n",
    "    msg.attach(attachment)\n",
    "    \n",
    "# Iniciar la conexión con el servidor SMTP\n",
    "with smtplib.SMTP(smtp_server, smtp_port) as server:\n",
    "    server.starttls()  # Iniciar el modo seguro\n",
    "    server.login(sender_email, sender_password)\n",
    "    server.sendmail(sender_email, receiver_email, msg.as_string())\n",
    "\n",
    "print('Correo enviado exitosamente')"
   ]
  },
  {
   "cell_type": "code",
   "execution_count": null,
   "id": "86d56476",
   "metadata": {},
   "outputs": [],
   "source": []
  }
 ],
 "metadata": {
  "kernelspec": {
   "display_name": "Python 3 (ipykernel)",
   "language": "python",
   "name": "python3"
  },
  "language_info": {
   "codemirror_mode": {
    "name": "ipython",
    "version": 3
   },
   "file_extension": ".py",
   "mimetype": "text/x-python",
   "name": "python",
   "nbconvert_exporter": "python",
   "pygments_lexer": "ipython3",
   "version": "3.10.8"
  }
 },
 "nbformat": 4,
 "nbformat_minor": 5
}
